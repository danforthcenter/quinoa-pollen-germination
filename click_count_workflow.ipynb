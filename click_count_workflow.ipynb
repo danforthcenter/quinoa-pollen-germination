{
 "cells": [
  {
   "cell_type": "markdown",
   "id": "assigned-gossip",
   "metadata": {},
   "source": [
    "# Analyze pollen grains using visualize.ClickCount\n",
    "In this notebook we analyze pollen grain images. A portion of the grains can be detected automatically using a color threshold and filtering the objects according to eccentricity. Then visualize.ClickCount can be used to adjust the detections and manually select the germinated grains.\n"
   ]
  },
  {
   "cell_type": "markdown",
   "id": "criminal-quest",
   "metadata": {},
   "source": [
    "## Import libraries and define local functions"
   ]
  },
  {
   "cell_type": "code",
   "execution_count": null,
   "id": "complicated-token",
   "metadata": {},
   "outputs": [],
   "source": [
    "%matplotlib widget\n",
    "\n",
    "from matplotlib import pyplot as plt\n",
    "from plantcv import plantcv as pcv"
   ]
  },
  {
   "cell_type": "code",
   "execution_count": null,
   "id": "cooked-steering",
   "metadata": {},
   "outputs": [],
   "source": [
    "# Input/output options\n",
    "class options:\n",
    "    def __init__(self):\n",
    "        self.image = \"./data/example.jpg\"  # required\n",
    "        self.debug = None  # None, \"print\" (save to file), or \"plot\" (display in notebook)\n",
    "        self.writeimg= False\n",
    "        self.result = \"example\"  # required\n",
    "        self.outdir = \"./results\" # Store the output to the current directory \n",
    "\n",
    "# Get options\n",
    "args = options()"
   ]
  },
  {
   "cell_type": "code",
   "execution_count": null,
   "id": "played-petite",
   "metadata": {},
   "outputs": [],
   "source": [
    "# Set debug to the global parameter \n",
    "pcv.params.debug = args.debug\n",
    "# Change display settings\n",
    "pcv.params.dpi = 120\n",
    "pcv.params.text_size = 10"
   ]
  },
  {
   "cell_type": "markdown",
   "id": "numerical-diagram",
   "metadata": {},
   "source": [
    "## Load image and threshold \n",
    "The channel used and the threshold value can be adjusted for a better result. The resulting binary image from this step must contain all the grains. The tubes will be removed in the next step"
   ]
  },
  {
   "cell_type": "code",
   "execution_count": null,
   "id": "pressing-talent",
   "metadata": {},
   "outputs": [],
   "source": [
    "img, _, fname = pcv.readimage(filename=args.image, mode=\"native\")\n",
    "h,w,_ = img.shape\n",
    "\n",
    "pcv.plot_image(img)\n",
    "plt.title('RGB')\n",
    "\n",
    "img_B = img[:,:,0]\n",
    "#pcv.plot_image(img_B)\n",
    "#plt.title('B channel')\n",
    "\n",
    "# threshold for the blue channel to adjust for the image\n",
    "th_B = 150\n",
    "img_B_thresh = img_B < th_B\n",
    "#pcv.plot_image(img_B_thresh)\n",
    "#plt.title('B threshold')\n",
    "\n",
    "# post-processing for cleaning\n",
    "img_B_post = pcv.fill_holes(img_B_thresh)\n",
    "img_B_post = pcv.fill(img_B_post, 210)\n",
    "pcv.plot_image(img_B_post)\n",
    "plt.title('Binary image containing all the grains')"
   ]
  },
  {
   "cell_type": "markdown",
   "id": "subjective-beast",
   "metadata": {},
   "source": [
    "## Discard objects that are not circular\n",
    "Adjust the eccentricity threshold. A value closer to 0 is more strict about the circular form. \n",
    "This step is supposed to eliminate the tubes and automatically detect most of the grains. Some grains will be eliminated as well and will have to be selected manually in the next step."
   ]
  },
  {
   "cell_type": "code",
   "execution_count": null,
   "id": "physical-savannah",
   "metadata": {},
   "outputs": [],
   "source": [
    "discs, coor = pcv.detect_discs(img_B_post, ecc_thresh=0.65)\n",
    "pcv.plot_image(discs)\n",
    "plt.title('Binary mask after eliminating the tails')"
   ]
  },
  {
   "cell_type": "markdown",
   "id": "polar-character",
   "metadata": {},
   "source": [
    "## Initialize interactive tool and import pre-detected grains\n",
    "Click to select missing grains and to fix bad detections. Adjust figsize for zoom,"
   ]
  },
  {
   "cell_type": "code",
   "execution_count": null,
   "id": "deadly-fabric",
   "metadata": {},
   "outputs": [],
   "source": [
    "# initialization\n",
    "counter = pcv.visualize.ClickCount(img, figsize=(8, 6))\n",
    "\n",
    "# import coordinates (if available)\n",
    "counter.import_coords(coor, label=\"total\")\n",
    "\n",
    "# view \"total\" class\n",
    "counter.view(label=\"total\", color=\"r\", view_all=False)"
   ]
  },
  {
   "cell_type": "markdown",
   "id": "corresponding-article",
   "metadata": {},
   "source": [
    "## View number of selected points"
   ]
  },
  {
   "cell_type": "code",
   "execution_count": null,
   "id": "based-input",
   "metadata": {},
   "outputs": [],
   "source": [
    "print(f\"There are {counter.count['total']} selected objects\")"
   ]
  },
  {
   "cell_type": "markdown",
   "id": "colored-crash",
   "metadata": {},
   "source": [
    "## Run interactive tool to select grains with a different class"
   ]
  },
  {
   "cell_type": "code",
   "execution_count": null,
   "id": "identified-appliance",
   "metadata": {},
   "outputs": [],
   "source": [
    "counter.view(label=\"germinated\", color=\"b\", view_all=True)"
   ]
  },
  {
   "cell_type": "markdown",
   "id": "charitable-liability",
   "metadata": {},
   "source": [
    "## View number of selected points"
   ]
  },
  {
   "cell_type": "code",
   "execution_count": null,
   "id": "solar-boring",
   "metadata": {},
   "outputs": [],
   "source": [
    "print(f\"There are {counter.count['germinated']} selected objects\")"
   ]
  },
  {
   "cell_type": "code",
   "execution_count": null,
   "id": "73b82439",
   "metadata": {},
   "outputs": [],
   "source": []
  }
 ],
 "metadata": {
  "kernelspec": {
   "display_name": "Python 3",
   "language": "python",
   "name": "python3"
  },
  "language_info": {
   "codemirror_mode": {
    "name": "ipython",
    "version": 3
   },
   "file_extension": ".py",
   "mimetype": "text/x-python",
   "name": "python",
   "nbconvert_exporter": "python",
   "pygments_lexer": "ipython3",
   "version": "3.6.8"
  }
 },
 "nbformat": 4,
 "nbformat_minor": 5
}
